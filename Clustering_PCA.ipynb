{
 "cells": [
  {
   "cell_type": "code",
   "execution_count": 2,
   "metadata": {},
   "outputs": [],
   "source": [
    "import pandas as pd\n",
    "import numpy as np\n",
    "from sklearn.preprocessing import StandardScaler\n",
    "from sklearn.cluster import KMeans\n",
    "from sklearn.decomposition import PCA\n",
    "import matplotlib.pyplot as plt"
   ]
  },
  {
   "cell_type": "markdown",
   "metadata": {},
   "source": [
    "The Madelon dataset is a synthetic dataset that was generated for a machine learning competition. It is a high-dimensional dataset, with 500 features and 2,600 data points. It has a highly non-linear structure, and in this homework assignment, you’ll be diving into it further with PCA and k-means clustering. When you are asked to generate a plot, please provide the image in your final writeup along with a brief analysis of its major features."
   ]
  },
  {
   "cell_type": "markdown",
   "metadata": {},
   "source": [
    "# Before performing any dimensionality reduction, write a program to use k-means clustering on the Madelon dataset. Try the following k values: 4, 8, 16, 32, 64. "
   ]
  },
  {
   "cell_type": "code",
   "execution_count": 3,
   "metadata": {},
   "outputs": [
    {
     "data": {
      "text/html": [
       "<div>\n",
       "<style scoped>\n",
       "    .dataframe tbody tr th:only-of-type {\n",
       "        vertical-align: middle;\n",
       "    }\n",
       "\n",
       "    .dataframe tbody tr th {\n",
       "        vertical-align: top;\n",
       "    }\n",
       "\n",
       "    .dataframe thead th {\n",
       "        text-align: right;\n",
       "    }\n",
       "</style>\n",
       "<table border=\"1\" class=\"dataframe\">\n",
       "  <thead>\n",
       "    <tr style=\"text-align: right;\">\n",
       "      <th></th>\n",
       "      <th>V1</th>\n",
       "      <th>V2</th>\n",
       "      <th>V3</th>\n",
       "      <th>V4</th>\n",
       "      <th>V5</th>\n",
       "      <th>V6</th>\n",
       "      <th>V7</th>\n",
       "      <th>V8</th>\n",
       "      <th>V9</th>\n",
       "      <th>V10</th>\n",
       "      <th>...</th>\n",
       "      <th>V491</th>\n",
       "      <th>V492</th>\n",
       "      <th>V493</th>\n",
       "      <th>V494</th>\n",
       "      <th>V495</th>\n",
       "      <th>V496</th>\n",
       "      <th>V497</th>\n",
       "      <th>V498</th>\n",
       "      <th>V499</th>\n",
       "      <th>V500</th>\n",
       "    </tr>\n",
       "  </thead>\n",
       "  <tbody>\n",
       "    <tr>\n",
       "      <th>0</th>\n",
       "      <td>485</td>\n",
       "      <td>477</td>\n",
       "      <td>537</td>\n",
       "      <td>479</td>\n",
       "      <td>452</td>\n",
       "      <td>471</td>\n",
       "      <td>491</td>\n",
       "      <td>476</td>\n",
       "      <td>475</td>\n",
       "      <td>473</td>\n",
       "      <td>...</td>\n",
       "      <td>477</td>\n",
       "      <td>481</td>\n",
       "      <td>477</td>\n",
       "      <td>485</td>\n",
       "      <td>511</td>\n",
       "      <td>485</td>\n",
       "      <td>481</td>\n",
       "      <td>479</td>\n",
       "      <td>475</td>\n",
       "      <td>496</td>\n",
       "    </tr>\n",
       "    <tr>\n",
       "      <th>1</th>\n",
       "      <td>483</td>\n",
       "      <td>458</td>\n",
       "      <td>460</td>\n",
       "      <td>487</td>\n",
       "      <td>587</td>\n",
       "      <td>475</td>\n",
       "      <td>526</td>\n",
       "      <td>479</td>\n",
       "      <td>485</td>\n",
       "      <td>469</td>\n",
       "      <td>...</td>\n",
       "      <td>463</td>\n",
       "      <td>478</td>\n",
       "      <td>487</td>\n",
       "      <td>338</td>\n",
       "      <td>513</td>\n",
       "      <td>486</td>\n",
       "      <td>483</td>\n",
       "      <td>492</td>\n",
       "      <td>510</td>\n",
       "      <td>517</td>\n",
       "    </tr>\n",
       "    <tr>\n",
       "      <th>2</th>\n",
       "      <td>487</td>\n",
       "      <td>542</td>\n",
       "      <td>499</td>\n",
       "      <td>468</td>\n",
       "      <td>448</td>\n",
       "      <td>471</td>\n",
       "      <td>442</td>\n",
       "      <td>478</td>\n",
       "      <td>480</td>\n",
       "      <td>477</td>\n",
       "      <td>...</td>\n",
       "      <td>487</td>\n",
       "      <td>481</td>\n",
       "      <td>492</td>\n",
       "      <td>650</td>\n",
       "      <td>506</td>\n",
       "      <td>501</td>\n",
       "      <td>480</td>\n",
       "      <td>489</td>\n",
       "      <td>499</td>\n",
       "      <td>498</td>\n",
       "    </tr>\n",
       "    <tr>\n",
       "      <th>3</th>\n",
       "      <td>480</td>\n",
       "      <td>491</td>\n",
       "      <td>510</td>\n",
       "      <td>485</td>\n",
       "      <td>495</td>\n",
       "      <td>472</td>\n",
       "      <td>417</td>\n",
       "      <td>474</td>\n",
       "      <td>502</td>\n",
       "      <td>476</td>\n",
       "      <td>...</td>\n",
       "      <td>491</td>\n",
       "      <td>480</td>\n",
       "      <td>474</td>\n",
       "      <td>572</td>\n",
       "      <td>454</td>\n",
       "      <td>469</td>\n",
       "      <td>475</td>\n",
       "      <td>482</td>\n",
       "      <td>494</td>\n",
       "      <td>461</td>\n",
       "    </tr>\n",
       "    <tr>\n",
       "      <th>4</th>\n",
       "      <td>484</td>\n",
       "      <td>502</td>\n",
       "      <td>528</td>\n",
       "      <td>489</td>\n",
       "      <td>466</td>\n",
       "      <td>481</td>\n",
       "      <td>402</td>\n",
       "      <td>478</td>\n",
       "      <td>487</td>\n",
       "      <td>468</td>\n",
       "      <td>...</td>\n",
       "      <td>488</td>\n",
       "      <td>479</td>\n",
       "      <td>452</td>\n",
       "      <td>435</td>\n",
       "      <td>486</td>\n",
       "      <td>508</td>\n",
       "      <td>481</td>\n",
       "      <td>504</td>\n",
       "      <td>495</td>\n",
       "      <td>511</td>\n",
       "    </tr>\n",
       "  </tbody>\n",
       "</table>\n",
       "<p>5 rows × 500 columns</p>\n",
       "</div>"
      ],
      "text/plain": [
       "    V1   V2   V3   V4   V5   V6   V7   V8   V9  V10  ...  V491  V492  V493  \\\n",
       "0  485  477  537  479  452  471  491  476  475  473  ...   477   481   477   \n",
       "1  483  458  460  487  587  475  526  479  485  469  ...   463   478   487   \n",
       "2  487  542  499  468  448  471  442  478  480  477  ...   487   481   492   \n",
       "3  480  491  510  485  495  472  417  474  502  476  ...   491   480   474   \n",
       "4  484  502  528  489  466  481  402  478  487  468  ...   488   479   452   \n",
       "\n",
       "   V494  V495  V496  V497  V498  V499  V500  \n",
       "0   485   511   485   481   479   475   496  \n",
       "1   338   513   486   483   492   510   517  \n",
       "2   650   506   501   480   489   499   498  \n",
       "3   572   454   469   475   482   494   461  \n",
       "4   435   486   508   481   504   495   511  \n",
       "\n",
       "[5 rows x 500 columns]"
      ]
     },
     "execution_count": 3,
     "metadata": {},
     "output_type": "execute_result"
    }
   ],
   "source": [
    "madelon = pd.read_csv('/Users/mario/Desktop/UCD-MSBA/Winter/452/HW5/madelon.csv')\n",
    "madelon = madelon.drop('Unnamed: 0',axis=1)\n",
    "madelon.head()"
   ]
  },
  {
   "cell_type": "code",
   "execution_count": 4,
   "metadata": {},
   "outputs": [
    {
     "data": {
      "text/html": [
       "<div>\n",
       "<style scoped>\n",
       "    .dataframe tbody tr th:only-of-type {\n",
       "        vertical-align: middle;\n",
       "    }\n",
       "\n",
       "    .dataframe tbody tr th {\n",
       "        vertical-align: top;\n",
       "    }\n",
       "\n",
       "    .dataframe thead th {\n",
       "        text-align: right;\n",
       "    }\n",
       "</style>\n",
       "<table border=\"1\" class=\"dataframe\">\n",
       "  <thead>\n",
       "    <tr style=\"text-align: right;\">\n",
       "      <th></th>\n",
       "      <th>V1</th>\n",
       "      <th>V2</th>\n",
       "      <th>V3</th>\n",
       "      <th>V4</th>\n",
       "      <th>V5</th>\n",
       "      <th>V6</th>\n",
       "      <th>V7</th>\n",
       "      <th>V8</th>\n",
       "      <th>V9</th>\n",
       "      <th>V10</th>\n",
       "      <th>...</th>\n",
       "      <th>V491</th>\n",
       "      <th>V492</th>\n",
       "      <th>V493</th>\n",
       "      <th>V494</th>\n",
       "      <th>V495</th>\n",
       "      <th>V496</th>\n",
       "      <th>V497</th>\n",
       "      <th>V498</th>\n",
       "      <th>V499</th>\n",
       "      <th>V500</th>\n",
       "    </tr>\n",
       "  </thead>\n",
       "  <tbody>\n",
       "    <tr>\n",
       "      <th>0</th>\n",
       "      <td>0.516136</td>\n",
       "      <td>-0.215974</td>\n",
       "      <td>0.713077</td>\n",
       "      <td>-0.488131</td>\n",
       "      <td>-1.183243</td>\n",
       "      <td>-1.211192</td>\n",
       "      <td>0.260055</td>\n",
       "      <td>-0.409390</td>\n",
       "      <td>-0.786691</td>\n",
       "      <td>-0.794660</td>\n",
       "      <td>...</td>\n",
       "      <td>-0.251994</td>\n",
       "      <td>0.544491</td>\n",
       "      <td>-0.390690</td>\n",
       "      <td>-0.099933</td>\n",
       "      <td>0.492812</td>\n",
       "      <td>-0.682645</td>\n",
       "      <td>0.485992</td>\n",
       "      <td>-0.305568</td>\n",
       "      <td>-0.903116</td>\n",
       "      <td>0.208779</td>\n",
       "    </tr>\n",
       "    <tr>\n",
       "      <th>1</th>\n",
       "      <td>0.199264</td>\n",
       "      <td>-0.842352</td>\n",
       "      <td>-1.271907</td>\n",
       "      <td>0.406575</td>\n",
       "      <td>2.081658</td>\n",
       "      <td>-0.631114</td>\n",
       "      <td>1.125953</td>\n",
       "      <td>1.746751</td>\n",
       "      <td>-0.131996</td>\n",
       "      <td>-1.342085</td>\n",
       "      <td>...</td>\n",
       "      <td>-0.923340</td>\n",
       "      <td>-0.199167</td>\n",
       "      <td>0.031642</td>\n",
       "      <td>-1.253498</td>\n",
       "      <td>0.550157</td>\n",
       "      <td>-0.656116</td>\n",
       "      <td>0.827177</td>\n",
       "      <td>0.649950</td>\n",
       "      <td>0.042229</td>\n",
       "      <td>1.018908</td>\n",
       "    </tr>\n",
       "    <tr>\n",
       "      <th>2</th>\n",
       "      <td>0.833009</td>\n",
       "      <td>1.926899</td>\n",
       "      <td>-0.266525</td>\n",
       "      <td>-1.718352</td>\n",
       "      <td>-1.279981</td>\n",
       "      <td>-1.211192</td>\n",
       "      <td>-0.952203</td>\n",
       "      <td>1.028037</td>\n",
       "      <td>-0.459344</td>\n",
       "      <td>-0.247236</td>\n",
       "      <td>...</td>\n",
       "      <td>0.227538</td>\n",
       "      <td>0.544491</td>\n",
       "      <td>0.242809</td>\n",
       "      <td>1.194884</td>\n",
       "      <td>0.349450</td>\n",
       "      <td>-0.258173</td>\n",
       "      <td>0.315399</td>\n",
       "      <td>0.429446</td>\n",
       "      <td>-0.254880</td>\n",
       "      <td>0.285934</td>\n",
       "    </tr>\n",
       "    <tr>\n",
       "      <th>3</th>\n",
       "      <td>-0.276045</td>\n",
       "      <td>0.245568</td>\n",
       "      <td>0.017044</td>\n",
       "      <td>0.182899</td>\n",
       "      <td>-0.143311</td>\n",
       "      <td>-1.066172</td>\n",
       "      <td>-1.570702</td>\n",
       "      <td>-1.846818</td>\n",
       "      <td>0.980984</td>\n",
       "      <td>-0.384092</td>\n",
       "      <td>...</td>\n",
       "      <td>0.419351</td>\n",
       "      <td>0.296605</td>\n",
       "      <td>-0.517390</td>\n",
       "      <td>0.582789</td>\n",
       "      <td>-1.141514</td>\n",
       "      <td>-1.107118</td>\n",
       "      <td>-0.537563</td>\n",
       "      <td>-0.085064</td>\n",
       "      <td>-0.389929</td>\n",
       "      <td>-1.141436</td>\n",
       "    </tr>\n",
       "    <tr>\n",
       "      <th>4</th>\n",
       "      <td>0.357700</td>\n",
       "      <td>0.608208</td>\n",
       "      <td>0.481066</td>\n",
       "      <td>0.630252</td>\n",
       "      <td>-0.844661</td>\n",
       "      <td>0.239003</td>\n",
       "      <td>-1.941801</td>\n",
       "      <td>1.028037</td>\n",
       "      <td>-0.001058</td>\n",
       "      <td>-1.478941</td>\n",
       "      <td>...</td>\n",
       "      <td>0.275491</td>\n",
       "      <td>0.048719</td>\n",
       "      <td>-1.446521</td>\n",
       "      <td>-0.492302</td>\n",
       "      <td>-0.223998</td>\n",
       "      <td>-0.072466</td>\n",
       "      <td>0.485992</td>\n",
       "      <td>1.531967</td>\n",
       "      <td>-0.362919</td>\n",
       "      <td>0.787442</td>\n",
       "    </tr>\n",
       "  </tbody>\n",
       "</table>\n",
       "<p>5 rows × 500 columns</p>\n",
       "</div>"
      ],
      "text/plain": [
       "         V1        V2        V3        V4        V5        V6        V7  \\\n",
       "0  0.516136 -0.215974  0.713077 -0.488131 -1.183243 -1.211192  0.260055   \n",
       "1  0.199264 -0.842352 -1.271907  0.406575  2.081658 -0.631114  1.125953   \n",
       "2  0.833009  1.926899 -0.266525 -1.718352 -1.279981 -1.211192 -0.952203   \n",
       "3 -0.276045  0.245568  0.017044  0.182899 -0.143311 -1.066172 -1.570702   \n",
       "4  0.357700  0.608208  0.481066  0.630252 -0.844661  0.239003 -1.941801   \n",
       "\n",
       "         V8        V9       V10  ...      V491      V492      V493      V494  \\\n",
       "0 -0.409390 -0.786691 -0.794660  ... -0.251994  0.544491 -0.390690 -0.099933   \n",
       "1  1.746751 -0.131996 -1.342085  ... -0.923340 -0.199167  0.031642 -1.253498   \n",
       "2  1.028037 -0.459344 -0.247236  ...  0.227538  0.544491  0.242809  1.194884   \n",
       "3 -1.846818  0.980984 -0.384092  ...  0.419351  0.296605 -0.517390  0.582789   \n",
       "4  1.028037 -0.001058 -1.478941  ...  0.275491  0.048719 -1.446521 -0.492302   \n",
       "\n",
       "       V495      V496      V497      V498      V499      V500  \n",
       "0  0.492812 -0.682645  0.485992 -0.305568 -0.903116  0.208779  \n",
       "1  0.550157 -0.656116  0.827177  0.649950  0.042229  1.018908  \n",
       "2  0.349450 -0.258173  0.315399  0.429446 -0.254880  0.285934  \n",
       "3 -1.141514 -1.107118 -0.537563 -0.085064 -0.389929 -1.141436  \n",
       "4 -0.223998 -0.072466  0.485992  1.531967 -0.362919  0.787442  \n",
       "\n",
       "[5 rows x 500 columns]"
      ]
     },
     "execution_count": 4,
     "metadata": {},
     "output_type": "execute_result"
    }
   ],
   "source": [
    "# Standardize the dataset\n",
    "scaler = StandardScaler()\n",
    "madelon_std = pd.DataFrame(scaler.fit_transform(madelon), columns=madelon.columns)\n",
    "madelon_std.head()"
   ]
  },
  {
   "cell_type": "code",
   "execution_count": 5,
   "metadata": {},
   "outputs": [],
   "source": [
    "# define the list of k values to try\n",
    "k_values = [4, 8, 16, 32, 64]\n",
    "\n",
    "# run k-means clustering for each value of k\n",
    "inertias = []\n",
    "for k in k_values:\n",
    "    kmeans = KMeans(n_clusters=k, random_state=42)\n",
    "    kmeans.fit(madelon_std)\n",
    "    inertias.append(kmeans.inertia_)"
   ]
  },
  {
   "cell_type": "markdown",
   "metadata": {},
   "source": [
    "# 1. What preprocessing techniques did you apply, if any?"
   ]
  },
  {
   "cell_type": "markdown",
   "metadata": {},
   "source": [
    "Before processing the dataset using k-means, I decide to standardize the dataset first because scaling can really affect the result of K-means. Since K-means will compare the distance of data points and their center, if the scale of some data points are much larger than others, then the calculated distance will not be reliable. After standardizing the dataset, the center mean of each cluster can then be interpreted as standard deviations from marginal average."
   ]
  },
  {
   "cell_type": "markdown",
   "metadata": {},
   "source": [
    "# 2. Describe qualitatively: how does the number of clusters affect the performance of the clustering algorithm on the dataset? "
   ]
  },
  {
   "cell_type": "markdown",
   "metadata": {},
   "source": [
    "Based on the Elbow Curve, the larger the number of clusters, the lower the inertia, and the better the performance of the clustering algorithm will be."
   ]
  },
  {
   "cell_type": "markdown",
   "metadata": {},
   "source": [
    "# 3. Generate a plot of the number of clusters k (x-axis) versus the sum of squared distance (SSE) between data points and their assigned centroids (y-axis). What appears to be the optimal k from the list of values you used, and why? "
   ]
  },
  {
   "cell_type": "code",
   "execution_count": 6,
   "metadata": {},
   "outputs": [
    {
     "data": {
      "image/png": "[encoded data removed]",
      "text/plain": [
       "<Figure size 432x288 with 1 Axes>"
      ]
     },
     "metadata": {
      "needs_background": "light"
     },
     "output_type": "display_data"
    }
   ],
   "source": [
    "# plot the elbow curve to find the best k value\n",
    "plt.plot(k_values, inertias, 'bx-')\n",
    "plt.xlabel('k')\n",
    "plt.ylabel('SSE')\n",
    "plt.title('Elbow Curve')\n",
    "plt.show()"
   ]
  },
  {
   "cell_type": "markdown",
   "metadata": {},
   "source": [
    "Based on the plot, the curve seems to become not too steep when k is larger than 16. As a result, based on the elbow rule, since more clusters cannot improve the SSE a lot, I would choose 16 as the optimal k."
   ]
  },
  {
   "cell_type": "markdown",
   "metadata": {},
   "source": [
    "# 4. For k = 8, how did you initialize the set of cluster centroids before running k-means? Rerun k-means again, this time ensuring that the centroids are all different. Does this – and if so, to what extent – affect the final clusters created?"
   ]
  },
  {
   "cell_type": "markdown",
   "metadata": {},
   "source": [
    "In scikit-learn's KMeans class, the initialization of the cluster centroids is performed randomly by default. Specifically, it uses the k-means++ initialization method, which is a smart initialization technique that tries to spread the initial cluster centers evenly across the data space."
   ]
  },
  {
   "cell_type": "code",
   "execution_count": 7,
   "metadata": {},
   "outputs": [],
   "source": [
    "kmeans = KMeans(n_clusters=8, random_state=42)\n",
    "y_pred = kmeans.fit_predict(madelon_std)"
   ]
  },
  {
   "cell_type": "code",
   "execution_count": 8,
   "metadata": {},
   "outputs": [],
   "source": [
    "# Rerun k-means, ensuring that the centroids are all different\n",
    "k = 8\n",
    "kmeans_1 = KMeans(n_clusters=k, init='random', random_state=42)\n",
    "y_pred_1 = kmeans_1.fit_predict(madelon_std)\n",
    "\n",
    "kmeans_2 = KMeans(n_clusters=k, init='random', random_state=43)\n",
    "y_pred_2 = kmeans_2.fit_predict(madelon_std)"
   ]
  },
  {
   "cell_type": "code",
   "execution_count": 10,
   "metadata": {},
   "outputs": [
    {
     "data": {
      "text/plain": [
       "array([4, 0, 6, ..., 6, 2, 4], dtype=int32)"
      ]
     },
     "execution_count": 10,
     "metadata": {},
     "output_type": "execute_result"
    }
   ],
   "source": [
    "y_pred"
   ]
  },
  {
   "cell_type": "code",
   "execution_count": 9,
   "metadata": {},
   "outputs": [
    {
     "data": {
      "text/plain": [
       "array([0, 4, 6, ..., 2, 1, 3], dtype=int32)"
      ]
     },
     "execution_count": 9,
     "metadata": {},
     "output_type": "execute_result"
    }
   ],
   "source": [
    "y_pred_1"
   ]
  },
  {
   "cell_type": "code",
   "execution_count": 11,
   "metadata": {},
   "outputs": [
    {
     "data": {
      "text/plain": [
       "array([6, 1, 2, ..., 0, 2, 2], dtype=int32)"
      ]
     },
     "execution_count": 11,
     "metadata": {},
     "output_type": "execute_result"
    }
   ],
   "source": [
    "y_pred_2"
   ]
  },
  {
   "cell_type": "code",
   "execution_count": 12,
   "metadata": {},
   "outputs": [
    {
     "name": "stdout",
     "output_type": "stream",
     "text": [
      "Percentage of elements that are different: 85.69%\n"
     ]
    }
   ],
   "source": [
    "# check how much percent is different\n",
    "# for y_pred_1\n",
    "# calculate the number of elements that are different\n",
    "num_diff_1 = np.sum(y_pred != y_pred_1)\n",
    "\n",
    "# calculate the percentage of elements that are different\n",
    "percent_diff_1 = 100 * num_diff_1 / len(y_pred)\n",
    "\n",
    "print(\"Percentage of elements that are different: {:.2f}%\".format(percent_diff_1))"
   ]
  },
  {
   "cell_type": "code",
   "execution_count": 13,
   "metadata": {},
   "outputs": [
    {
     "name": "stdout",
     "output_type": "stream",
     "text": [
      "Percentage of elements that are different: 90.00%\n"
     ]
    }
   ],
   "source": [
    "# for y_pred_2\n",
    "# calculate the number of elements that are different\n",
    "num_diff_2 = np.sum(y_pred != y_pred_2)\n",
    "\n",
    "# calculate the percentage of elements that are different\n",
    "percent_diff_2 = 100 * num_diff_2 / len(y_pred)\n",
    "\n",
    "print(\"Percentage of elements that are different: {:.2f}%\".format(percent_diff_2))"
   ]
  },
  {
   "cell_type": "markdown",
   "metadata": {},
   "source": [
    "Based on the results, choosing different centroids and starting points will significantly influence the final results."
   ]
  },
  {
   "cell_type": "markdown",
   "metadata": {},
   "source": [
    "# 5. More generally for any dataset, what evaluation metrics can be used to assess the quality of the clusters produced?"
   ]
  },
  {
   "cell_type": "markdown",
   "metadata": {},
   "source": [
    "For evaluation metrics, first we can always refer to SSE(sum of squared srror), which is also known as inertia. Inertia measures the sum of squared distances of samples to their closest cluster center. A lower inertia indicates better clustering performance.\n",
    "\n",
    "Also, we can refer to Silhouette Score: Silhouette score is a measure of how similar an object is to its own cluster compared to other clusters. It ranges from -1 to 1, with higher values indicating better clustering performance.\n",
    "\n",
    "Besides, Calinski-Harabasz Index may also be a good choice. Calinski-Harabasz index measures the ratio of between-cluster variance to within-cluster variance. Higher values indicate better clustering performance."
   ]
  },
  {
   "cell_type": "markdown",
   "metadata": {},
   "source": [
    "# The Madelon dataset is high-dimensional, with 500 features per data point. Some of these features might be redundant or noisy, making clustering more difficult. "
   ]
  },
  {
   "cell_type": "markdown",
   "metadata": {},
   "source": [
    "1. Fit the standardized data with PCA. Then, create a cumulative variance plot – showing the number of components included (x-axis) versus the amount of variance captured (y-axis). Generally, we want to retain at least 75% of the variance. How many components would you decide to keep?"
   ]
  },
  {
   "cell_type": "code",
   "execution_count": 14,
   "metadata": {},
   "outputs": [
    {
     "data": {
      "image/png": "[encoded data removed]",
      "text/plain": [
       "<Figure size 432x288 with 1 Axes>"
      ]
     },
     "metadata": {
      "needs_background": "light"
     },
     "output_type": "display_data"
    }
   ],
   "source": [
    "pca = PCA().fit(madelon_std)\n",
    "# create a cumulative variance plot\n",
    "plt.plot(np.cumsum(pca.explained_variance_ratio_))\n",
    "plt.xlabel('Number of Components')\n",
    "plt.ylabel('Cumulative Explained Variance')\n",
    "plt.title('Cumulative Variance Plot')\n",
    "plt.show()"
   ]
  },
  {
   "cell_type": "code",
   "execution_count": 15,
   "metadata": {},
   "outputs": [
    {
     "name": "stdout",
     "output_type": "stream",
     "text": [
      "Number of components to retain 75% of variance: 277\n"
     ]
    }
   ],
   "source": [
    "# Calculate cumulative sum of explained variance ratios\n",
    "cumulative_variance = np.cumsum(pca.explained_variance_ratio_)\n",
    "\n",
    "# Determine number of components required to retain at least 75% of variance\n",
    "n_components = np.argmax(cumulative_variance >= 0.75) + 1\n",
    "\n",
    "print(\"Number of components to retain 75% of variance:\", n_components)"
   ]
  },
  {
   "cell_type": "markdown",
   "metadata": {},
   "source": [
    "As a result, I will choose to keep 277 components."
   ]
  },
  {
   "cell_type": "markdown",
   "metadata": {},
   "source": [
    "2. Perform PCA with your selected principal components.\n",
    "2.1 Plot the transformed data on a graph with the first two principal components as the axes i.e. x = PC 1, y = PC 2."
   ]
  },
  {
   "cell_type": "code",
   "execution_count": 25,
   "metadata": {},
   "outputs": [
    {
     "data": {
      "image/png": "[encoded data removed]",
      "text/plain": [
       "<Figure size 432x288 with 1 Axes>"
      ]
     },
     "metadata": {
      "needs_background": "light"
     },
     "output_type": "display_data"
    }
   ],
   "source": [
    "# Fit PCA on the standardized data and transform it\n",
    "pca = PCA(n_components=277)\n",
    "pca_val = pca.fit_transform(madelon_std)\n",
    "\n",
    "# Plot the transformed data with PC1 as the x-axis and PC2 as the y-axis\n",
    "plt.scatter(pca_val[:, 0], pca_val[:, 1])\n",
    "plt.xlabel('PC1')\n",
    "plt.ylabel('PC2')\n",
    "plt.title('Transformed Data with PC1 and PC2 as Axes')\n",
    "plt.show()"
   ]
  },
  {
   "cell_type": "markdown",
   "metadata": {},
   "source": [
    "2.2 Plot the original data on a graph with the two original variables that have the highest absolute combined loading for PC 1 and PC 2 i.e. maximizing |loading PC1| + |loading PC2|."
   ]
  },
  {
   "cell_type": "code",
   "execution_count": 32,
   "metadata": {},
   "outputs": [
    {
     "data": {
      "image/png": "[encoded data removed]",
      "text/plain": [
       "<Figure size 432x288 with 1 Axes>"
      ]
     },
     "metadata": {
      "needs_background": "light"
     },
     "output_type": "display_data"
    }
   ],
   "source": [
    "# Get the loading matrix and calculate absolute combined loadings for each feature\n",
    "loadings = pca.components_.T * np.sqrt(pca.explained_variance_)\n",
    "abs_combined_loadings = np.abs(loadings).sum(axis=1)\n",
    "\n",
    "# Find the two features with the highest absolute combined loadings\n",
    "selected_cols = np.argsort(abs_combined_loadings)[-2:]\n",
    "selected_data = madelon_std.iloc[:, selected_cols]\n",
    "\n",
    "# Plot the selected columns of the original data\n",
    "plt.scatter(selected_data.iloc[:, 0], selected_data.iloc[:, 1])\n",
    "plt.xlabel(madelon.columns[selected_cols[0]])\n",
    "plt.ylabel(madelon.columns[selected_cols[1]])\n",
    "plt.title('Original Data with Highest Absolute Combined Loadings')\n",
    "plt.show()"
   ]
  },
  {
   "cell_type": "markdown",
   "metadata": {},
   "source": [
    "3. Examine the scatter plot of PC 1 (x-axis) versus PC 2 (y-axis) for all data points that you created in the previous part. Qualitatively, can you identify visible clusters? Why or why not might this be the case with this particular dataset?"
   ]
  },
  {
   "cell_type": "markdown",
   "metadata": {},
   "source": [
    "Based on the results shown before, I cannot identify visible clusters.\n",
    "This may be because there are too many variables in this dataset and only two dimensions cannot show clear clusters.\n",
    "There may be other principal components that are necessary to effectively capture the variance and structure of the data.\n",
    "Also, the reason may be because this dataset inherently does not have clusters, so we cannot see clear clusters after PCA."
   ]
  },
  {
   "cell_type": "markdown",
   "metadata": {},
   "source": [
    "# Now, we will run k-means clustering on the transformed data from the previous problem."
   ]
  },
  {
   "cell_type": "markdown",
   "metadata": {},
   "source": [
    "1. Why is it a good idea to do this, especially for high-dimensional datasets? Name a number of reasons."
   ]
  },
  {
   "cell_type": "markdown",
   "metadata": {},
   "source": [
    "First, it can help reduce dimensionalities. After reducing the dimensions, it will be easier for clustering functions to find the patterns in the dataset and make the results more atable for K means. Also, it can help improve multicolinearity problems and make the results more reasonable.\n",
    "\n",
    "Also, it can speed up the process of K means. Since less dimensions are included in the dataset, and K means will try multiple times to reassign vairables, less dimensions can make it faster for the proccess of clustering.\n",
    "\n",
    "Lastlt, it can help improve accuracy. By reducing the dimensionality of the dataset, PCA can help remove noise and irrelevant features, making the clustering process more accurate and effective."
   ]
  },
  {
   "cell_type": "markdown",
   "metadata": {},
   "source": [
    "2. Use the same k values again (4, 8, 16, 32, 64) to again generate an elbow plot. "
   ]
  },
  {
   "cell_type": "code",
   "execution_count": 39,
   "metadata": {},
   "outputs": [
    {
     "data": {
      "image/png": "[encoded data removed]",
      "text/plain": [
       "<Figure size 432x288 with 1 Axes>"
      ]
     },
     "metadata": {
      "needs_background": "light"
     },
     "output_type": "display_data"
    }
   ],
   "source": [
    "inertias_pca = []\n",
    "for k in [4, 8, 16, 32, 64]:\n",
    "    kmeans_pca = KMeans(n_clusters=k, random_state=42)\n",
    "    kmeans_pca.fit(pca_val)\n",
    "    inertias_pca.append(kmeans_pca.inertia_)\n",
    "\n",
    "plt.plot([4, 8, 16, 32, 64], inertias_pca, 'bx-')\n",
    "plt.xlabel('Number of clusters, k')\n",
    "plt.ylabel('SSE')\n",
    "plt.title('Elbow Plot for PCA-Transformed Data')\n",
    "plt.show()"
   ]
  },
  {
   "cell_type": "markdown",
   "metadata": {},
   "source": [
    "What is the optimal k? Is it different from the one you found in (1)?"
   ]
  },
  {
   "cell_type": "markdown",
   "metadata": {},
   "source": [
    "The optimal k may still be 16 since the curve becomes less steep after 16. It is not different with my finding in (1)."
   ]
  },
  {
   "cell_type": "markdown",
   "metadata": {},
   "source": [
    "Compare the SSE values plotted in this exercise to the previous plot you generated in (1c) before performing PCA."
   ]
  },
  {
   "cell_type": "markdown",
   "metadata": {},
   "source": [
    "The SSE values are much larger than the previous plot I generated in (1c). It may be because I reduce the dimensions, the distance between each data points become much larger in a low-dimension space."
   ]
  },
  {
   "cell_type": "markdown",
   "metadata": {},
   "source": [
    "3. Again, create a scatter plot of PC 1 (x-axis) versus PC 2 (y-axis) for all of the transformed data points. Label the cluster centers and color-code by cluster assignment for the first 5 iterations of k = 32. Can you see the algorithm begin to converge to optimal assignments?"
   ]
  },
  {
   "cell_type": "code",
   "execution_count": 37,
   "metadata": {},
   "outputs": [
    {
     "data": {
      "image/png": "[encoded data removed]",
      "text/plain": [
       "<Figure size 432x288 with 1 Axes>"
      ]
     },
     "metadata": {
      "needs_background": "light"
     },
     "output_type": "display_data"
    }
   ],
   "source": [
    "# Fit K-means with k = 32\n",
    "k = 32\n",
    "kmeans = KMeans(n_clusters=k, random_state=42)\n",
    "kmeans.fit(pca_val)\n",
    "\n",
    "# Get the first 5 iterations of cluster centers\n",
    "cluster_centers = [kmeans.cluster_centers_]\n",
    "for i in range(4):\n",
    "    kmeans.fit(pca_val)\n",
    "    cluster_centers.append(kmeans.cluster_centers_)\n",
    "\n",
    "# Plot the scatter plot with labeled cluster centers and color-coding by cluster assignment\n",
    "fig, ax = plt.subplots()\n",
    "for i in range(k):\n",
    "    ax.scatter(pca_val[kmeans.labels_ == i, 0], pca_val[kmeans.labels_ == i, 1], label=f'Cluster {i+1}')\n",
    "ax.scatter(cluster_centers[0][:, 0], cluster_centers[0][:, 1], marker='x', s=200, color='black', label='Cluster Centers')\n",
    "for i, center in enumerate(cluster_centers[1:]):\n",
    "    ax.scatter(center[:, 0], center[:, 1], marker='x', s=200, color=f'C{i+1}')\n",
    "ax.set_xlabel('PC 1')\n",
    "ax.set_ylabel('PC 2')\n",
    "ax.set_title('K-means Clustering of Transformed Data (k=32)')\n",
    "# ax.legend()\n",
    "plt.show()"
   ]
  }
 ],
 "metadata": {
  "kernelspec": {
   "display_name": "Python 3",
   "language": "python",
   "name": "python3"
  },
  "language_info": {
   "codemirror_mode": {
    "name": "ipython",
    "version": 3
   },
   "file_extension": ".py",
   "mimetype": "text/x-python",
   "name": "python",
   "nbconvert_exporter": "python",
   "pygments_lexer": "ipython3",
   "version": "3.7.4"
  }
 },
 "nbformat": 4,
 "nbformat_minor": 4
}
